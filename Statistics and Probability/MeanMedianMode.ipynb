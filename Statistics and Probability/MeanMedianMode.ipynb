{
 "cells": [
  {
   "cell_type": "markdown",
   "metadata": {},
   "source": [
    "# Mean, Median, Mode, and introducing NumPy"
   ]
  },
  {
   "cell_type": "markdown",
   "metadata": {},
   "source": [
    "## Mean vs. Median"
   ]
  },
  {
   "cell_type": "markdown",
   "metadata": {},
   "source": [
    "Let's create some fake income data, centered around 27,000 with a normal distribution and standard deviation of 15,000, with 10,000 data points. (We'll discuss those terms more later, if you're not familiar with them.)\n",
    "\n",
    "Then, compute the mean (average) - it should be close to 27,000:"
   ]
  },
  {
   "cell_type": "code",
   "execution_count": 1,
   "metadata": {},
   "outputs": [
    {
     "data": {
      "text/plain": [
       "26983.444092126978"
      ]
     },
     "execution_count": 1,
     "metadata": {},
     "output_type": "execute_result"
    }
   ],
   "source": [
    "import numpy as np\n",
    "\n",
    "incomes = np.random.normal(27000, 15000, 10000)\n",
    "np.mean(incomes)"
   ]
  },
  {
   "cell_type": "markdown",
   "metadata": {},
   "source": [
    "We can segment the income data into 50 buckets, and plot it as a histogram:"
   ]
  },
  {
   "cell_type": "code",
   "execution_count": 2,
   "metadata": {},
   "outputs": [
    {
     "data": {
      "image/png": "[encoded data removed]",
      "text/plain": [
       "<Figure size 432x288 with 1 Axes>"
      ]
     },
     "metadata": {},
     "output_type": "display_data"
    }
   ],
   "source": [
    "%matplotlib inline\n",
    "import matplotlib.pyplot as plt\n",
    "plt.hist(incomes, 50, ec='black')\n",
    "plt.show()"
   ]
  },
  {
   "cell_type": "markdown",
   "metadata": {},
   "source": [
    "Now compute the median - since we have a nice, even distribution it too should be close to 27,000:"
   ]
  },
  {
   "cell_type": "code",
   "execution_count": 3,
   "metadata": {},
   "outputs": [
    {
     "data": {
      "text/plain": [
       "27071.434266728924"
      ]
     },
     "execution_count": 3,
     "metadata": {},
     "output_type": "execute_result"
    }
   ],
   "source": [
    "np.median(incomes)"
   ]
  },
  {
   "cell_type": "markdown",
   "metadata": {},
   "source": [
    "Now we'll add Donald Trump into the mix. Darn income inequality!"
   ]
  },
  {
   "cell_type": "code",
   "execution_count": 4,
   "metadata": {},
   "outputs": [],
   "source": [
    "incomes = np.append(incomes, [1000000000])"
   ]
  },
  {
   "cell_type": "markdown",
   "metadata": {},
   "source": [
    "The median won't change much, but the mean does:"
   ]
  },
  {
   "cell_type": "code",
   "execution_count": 5,
   "metadata": {},
   "outputs": [
    {
     "data": {
      "text/plain": [
       "27071.640278821007"
      ]
     },
     "execution_count": 5,
     "metadata": {},
     "output_type": "execute_result"
    }
   ],
   "source": [
    "np.median(incomes)"
   ]
  },
  {
   "cell_type": "code",
   "execution_count": 6,
   "metadata": {},
   "outputs": [
    {
     "data": {
      "text/plain": [
       "126970.74701742525"
      ]
     },
     "execution_count": 6,
     "metadata": {},
     "output_type": "execute_result"
    }
   ],
   "source": [
    "np.mean(incomes)"
   ]
  },
  {
   "cell_type": "markdown",
   "metadata": {},
   "source": [
    "## Mode"
   ]
  },
  {
   "cell_type": "markdown",
   "metadata": {},
   "source": [
    "Next, let's generate some fake age data for 500 people:"
   ]
  },
  {
   "cell_type": "code",
   "execution_count": 7,
   "metadata": {},
   "outputs": [
    {
     "data": {
      "text/plain": [
       "array([25, 62, 35, 87, 79, 31, 59, 75, 89, 37, 43, 50, 89, 68, 29, 70, 65,\n",
       "       28, 46, 77, 23, 73, 70, 69, 51, 75, 80, 71, 39, 52, 76, 46, 50, 65,\n",
       "       39, 63, 71, 19, 68, 21, 27, 71, 83, 55, 30, 47, 62, 88, 52, 23, 46,\n",
       "       83, 65, 24, 84, 68, 18, 28, 46, 33, 35, 79, 33, 23, 38, 71, 20, 79,\n",
       "       40, 23, 75, 88, 56, 39, 69, 74, 84, 70, 32, 47, 36, 75, 85, 35, 71,\n",
       "       42, 84, 53, 19, 66, 62, 22, 42, 70, 57, 75, 52, 26, 51, 41, 55, 85,\n",
       "       60, 73, 33, 49, 66, 60, 54, 87, 67, 39, 69, 70, 27, 76, 83, 64, 44,\n",
       "       33, 69, 23, 79, 41, 89, 70, 89, 75, 36, 81, 51, 31, 42, 21, 64, 23,\n",
       "       18, 42, 75, 36, 69, 85, 38, 56, 36, 46, 56, 52, 20, 67, 19, 79, 85,\n",
       "       87, 56, 87, 31, 56, 45, 88, 70, 88, 71, 59, 48, 44, 30, 56, 88, 68,\n",
       "       24, 77, 34, 19, 52, 43, 46, 24, 55, 77, 41, 58, 70, 30, 75, 85, 40,\n",
       "       28, 52, 48, 75, 64, 25, 57, 28, 30, 45, 28, 46, 50, 54, 69, 46, 21,\n",
       "       82, 22, 23, 23, 43, 86, 34, 52, 40, 79, 82, 60, 19, 82, 59, 84, 51,\n",
       "       45, 36, 68, 66, 43, 41, 30, 75, 33, 89, 81, 82, 46, 45, 60, 47, 86,\n",
       "       87, 53, 35, 47, 74, 67, 47, 19, 87, 81, 34, 34, 20, 37, 78, 80, 37,\n",
       "       28, 77, 20, 82, 60, 48, 64, 20, 50, 55, 88, 66, 76, 27, 41, 58, 87,\n",
       "       87, 74, 47, 78, 64, 65, 66, 83, 50, 35, 36, 28, 65, 29, 55, 82, 39,\n",
       "       69, 27, 20, 87, 73, 35, 67, 63, 75, 23, 32, 85, 53, 81, 81, 37, 74,\n",
       "       36, 51, 60, 69, 74, 45, 86, 72, 24, 84, 64, 84, 40, 54, 42, 21, 86,\n",
       "       85, 55, 82, 50, 34, 84, 42, 78, 84, 31, 62, 53, 84, 25, 20, 50, 65,\n",
       "       47, 38, 36, 53, 43, 77, 83, 58, 62, 35, 42, 76, 56, 85, 64, 71, 29,\n",
       "       26, 24, 86, 89, 37, 49, 21, 76, 25, 18, 68, 84, 45, 63, 72, 37, 36,\n",
       "       39, 57, 85, 89, 83, 64, 82, 80, 76, 24, 30, 33, 29, 39, 19, 47, 25,\n",
       "       86, 58, 70, 49, 56, 46, 87, 47, 44, 40, 39, 87, 32, 86, 86, 42, 84,\n",
       "       83, 35, 46, 55, 39, 24, 30, 21, 81, 30, 50, 32, 62, 65, 22, 89, 85,\n",
       "       80, 33, 48, 44, 82, 73, 37, 70, 45, 57, 34, 62, 23, 86, 47, 77, 65,\n",
       "       85, 76, 35, 25, 38, 36, 43, 43, 47, 45, 72, 50, 88, 54, 24, 70, 73,\n",
       "       55, 51, 65, 42, 37, 28, 50, 70, 30, 83, 61, 44, 57, 50, 37, 38, 20,\n",
       "       24, 28, 46, 63, 28, 66, 25, 32, 53, 43, 46, 57, 28, 79, 82, 36, 74,\n",
       "       55, 87, 78, 69, 63, 41, 59])"
      ]
     },
     "execution_count": 7,
     "metadata": {},
     "output_type": "execute_result"
    }
   ],
   "source": [
    "ages = np.random.randint(18, high=90, size=500)\n",
    "ages"
   ]
  },
  {
   "cell_type": "code",
   "execution_count": 8,
   "metadata": {},
   "outputs": [
    {
     "data": {
      "text/plain": [
       "ModeResult(mode=array([46]), count=array([13]))"
      ]
     },
     "execution_count": 8,
     "metadata": {},
     "output_type": "execute_result"
    }
   ],
   "source": [
    "from scipy import stats\n",
    "stats.mode(ages)"
   ]
  },
  {
   "cell_type": "code",
   "execution_count": null,
   "metadata": {},
   "outputs": [],
   "source": []
  }
 ],
 "metadata": {
  "kernelspec": {
   "display_name": "Python 3",
   "language": "python",
   "name": "python3"
  },
  "language_info": {
   "codemirror_mode": {
    "name": "ipython",
    "version": 3
   },
   "file_extension": ".py",
   "mimetype": "text/x-python",
   "name": "python",
   "nbconvert_exporter": "python",
   "pygments_lexer": "ipython3",
   "version": "3.6.5"
  }
 },
 "nbformat": 4,
 "nbformat_minor": 1
}
